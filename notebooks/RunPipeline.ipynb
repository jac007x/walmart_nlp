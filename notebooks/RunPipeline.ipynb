{
  "nbformat": 4,
  "nbformat_minor": 0,
  "metadata": {
    "colab": {
      "provenance": []
    },
    "kernelspec": {
      "name": "python3",
      "display_name": "Python 3"
    },
    "language_info": {
      "name": "python"
    }
  },
  "cells": [
    {
      "cell_type": "code",
      "execution_count": 1,
      "metadata": {
        "colab": {
          "base_uri": "https://localhost:8080/"
        },
        "id": "3mJ4dBBJyw01",
        "outputId": "48dcc216-5edf-4afa-806b-2b3fa4cc77f9"
      },
      "outputs": [
        {
          "output_type": "stream",
          "name": "stdout",
          "text": [
            "python3: can't open file '/content/scripts/run_pipeline.py': [Errno 2] No such file or directory\n"
          ]
        }
      ],
      "source": [
        "!python scripts/run_pipeline.py --csv data/sample.csv"
      ]
    }
  ]
}